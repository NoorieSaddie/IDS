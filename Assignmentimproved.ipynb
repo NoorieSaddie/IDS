{
  "cells": [
    {
      "cell_type": "markdown",
      "metadata": {
        "id": "view-in-github",
        "colab_type": "text"
      },
      "source": [
        "<a href=\"https://colab.research.google.com/github/NoorieSaddie/IDS/blob/main/Assignmentimproved.ipynb\" target=\"_parent\"><img src=\"https://colab.research.google.com/assets/colab-badge.svg\" alt=\"Open In Colab\"/></a>"
      ]
    },
    {
      "cell_type": "code",
      "execution_count": 2,
      "metadata": {
        "colab": {
          "base_uri": "https://localhost:8080/",
          "height": 74
        },
        "id": "4E5sc8owrexz",
        "outputId": "3b5c017e-4948-4fdb-b332-7eac1cad55b3"
      },
      "outputs": [
        {
          "output_type": "display_data",
          "data": {
            "text/plain": [
              "<IPython.core.display.HTML object>"
            ],
            "text/html": [
              "\n",
              "     <input type=\"file\" id=\"files-1fc99c21-b7c2-42d6-911a-64f794f5dc1c\" name=\"files[]\" multiple disabled\n",
              "        style=\"border:none\" />\n",
              "     <output id=\"result-1fc99c21-b7c2-42d6-911a-64f794f5dc1c\">\n",
              "      Upload widget is only available when the cell has been executed in the\n",
              "      current browser session. Please rerun this cell to enable.\n",
              "      </output>\n",
              "      <script>// Copyright 2017 Google LLC\n",
              "//\n",
              "// Licensed under the Apache License, Version 2.0 (the \"License\");\n",
              "// you may not use this file except in compliance with the License.\n",
              "// You may obtain a copy of the License at\n",
              "//\n",
              "//      http://www.apache.org/licenses/LICENSE-2.0\n",
              "//\n",
              "// Unless required by applicable law or agreed to in writing, software\n",
              "// distributed under the License is distributed on an \"AS IS\" BASIS,\n",
              "// WITHOUT WARRANTIES OR CONDITIONS OF ANY KIND, either express or implied.\n",
              "// See the License for the specific language governing permissions and\n",
              "// limitations under the License.\n",
              "\n",
              "/**\n",
              " * @fileoverview Helpers for google.colab Python module.\n",
              " */\n",
              "(function(scope) {\n",
              "function span(text, styleAttributes = {}) {\n",
              "  const element = document.createElement('span');\n",
              "  element.textContent = text;\n",
              "  for (const key of Object.keys(styleAttributes)) {\n",
              "    element.style[key] = styleAttributes[key];\n",
              "  }\n",
              "  return element;\n",
              "}\n",
              "\n",
              "// Max number of bytes which will be uploaded at a time.\n",
              "const MAX_PAYLOAD_SIZE = 100 * 1024;\n",
              "\n",
              "function _uploadFiles(inputId, outputId) {\n",
              "  const steps = uploadFilesStep(inputId, outputId);\n",
              "  const outputElement = document.getElementById(outputId);\n",
              "  // Cache steps on the outputElement to make it available for the next call\n",
              "  // to uploadFilesContinue from Python.\n",
              "  outputElement.steps = steps;\n",
              "\n",
              "  return _uploadFilesContinue(outputId);\n",
              "}\n",
              "\n",
              "// This is roughly an async generator (not supported in the browser yet),\n",
              "// where there are multiple asynchronous steps and the Python side is going\n",
              "// to poll for completion of each step.\n",
              "// This uses a Promise to block the python side on completion of each step,\n",
              "// then passes the result of the previous step as the input to the next step.\n",
              "function _uploadFilesContinue(outputId) {\n",
              "  const outputElement = document.getElementById(outputId);\n",
              "  const steps = outputElement.steps;\n",
              "\n",
              "  const next = steps.next(outputElement.lastPromiseValue);\n",
              "  return Promise.resolve(next.value.promise).then((value) => {\n",
              "    // Cache the last promise value to make it available to the next\n",
              "    // step of the generator.\n",
              "    outputElement.lastPromiseValue = value;\n",
              "    return next.value.response;\n",
              "  });\n",
              "}\n",
              "\n",
              "/**\n",
              " * Generator function which is called between each async step of the upload\n",
              " * process.\n",
              " * @param {string} inputId Element ID of the input file picker element.\n",
              " * @param {string} outputId Element ID of the output display.\n",
              " * @return {!Iterable<!Object>} Iterable of next steps.\n",
              " */\n",
              "function* uploadFilesStep(inputId, outputId) {\n",
              "  const inputElement = document.getElementById(inputId);\n",
              "  inputElement.disabled = false;\n",
              "\n",
              "  const outputElement = document.getElementById(outputId);\n",
              "  outputElement.innerHTML = '';\n",
              "\n",
              "  const pickedPromise = new Promise((resolve) => {\n",
              "    inputElement.addEventListener('change', (e) => {\n",
              "      resolve(e.target.files);\n",
              "    });\n",
              "  });\n",
              "\n",
              "  const cancel = document.createElement('button');\n",
              "  inputElement.parentElement.appendChild(cancel);\n",
              "  cancel.textContent = 'Cancel upload';\n",
              "  const cancelPromise = new Promise((resolve) => {\n",
              "    cancel.onclick = () => {\n",
              "      resolve(null);\n",
              "    };\n",
              "  });\n",
              "\n",
              "  // Wait for the user to pick the files.\n",
              "  const files = yield {\n",
              "    promise: Promise.race([pickedPromise, cancelPromise]),\n",
              "    response: {\n",
              "      action: 'starting',\n",
              "    }\n",
              "  };\n",
              "\n",
              "  cancel.remove();\n",
              "\n",
              "  // Disable the input element since further picks are not allowed.\n",
              "  inputElement.disabled = true;\n",
              "\n",
              "  if (!files) {\n",
              "    return {\n",
              "      response: {\n",
              "        action: 'complete',\n",
              "      }\n",
              "    };\n",
              "  }\n",
              "\n",
              "  for (const file of files) {\n",
              "    const li = document.createElement('li');\n",
              "    li.append(span(file.name, {fontWeight: 'bold'}));\n",
              "    li.append(span(\n",
              "        `(${file.type || 'n/a'}) - ${file.size} bytes, ` +\n",
              "        `last modified: ${\n",
              "            file.lastModifiedDate ? file.lastModifiedDate.toLocaleDateString() :\n",
              "                                    'n/a'} - `));\n",
              "    const percent = span('0% done');\n",
              "    li.appendChild(percent);\n",
              "\n",
              "    outputElement.appendChild(li);\n",
              "\n",
              "    const fileDataPromise = new Promise((resolve) => {\n",
              "      const reader = new FileReader();\n",
              "      reader.onload = (e) => {\n",
              "        resolve(e.target.result);\n",
              "      };\n",
              "      reader.readAsArrayBuffer(file);\n",
              "    });\n",
              "    // Wait for the data to be ready.\n",
              "    let fileData = yield {\n",
              "      promise: fileDataPromise,\n",
              "      response: {\n",
              "        action: 'continue',\n",
              "      }\n",
              "    };\n",
              "\n",
              "    // Use a chunked sending to avoid message size limits. See b/62115660.\n",
              "    let position = 0;\n",
              "    do {\n",
              "      const length = Math.min(fileData.byteLength - position, MAX_PAYLOAD_SIZE);\n",
              "      const chunk = new Uint8Array(fileData, position, length);\n",
              "      position += length;\n",
              "\n",
              "      const base64 = btoa(String.fromCharCode.apply(null, chunk));\n",
              "      yield {\n",
              "        response: {\n",
              "          action: 'append',\n",
              "          file: file.name,\n",
              "          data: base64,\n",
              "        },\n",
              "      };\n",
              "\n",
              "      let percentDone = fileData.byteLength === 0 ?\n",
              "          100 :\n",
              "          Math.round((position / fileData.byteLength) * 100);\n",
              "      percent.textContent = `${percentDone}% done`;\n",
              "\n",
              "    } while (position < fileData.byteLength);\n",
              "  }\n",
              "\n",
              "  // All done.\n",
              "  yield {\n",
              "    response: {\n",
              "      action: 'complete',\n",
              "    }\n",
              "  };\n",
              "}\n",
              "\n",
              "scope.google = scope.google || {};\n",
              "scope.google.colab = scope.google.colab || {};\n",
              "scope.google.colab._files = {\n",
              "  _uploadFiles,\n",
              "  _uploadFilesContinue,\n",
              "};\n",
              "})(self);\n",
              "</script> "
            ]
          },
          "metadata": {}
        },
        {
          "output_type": "stream",
          "name": "stdout",
          "text": [
            "Saving the-hello-dataset-fa22.csv to the-hello-dataset-fa22.csv\n"
          ]
        }
      ],
      "source": [
        "#import libraries\n",
        "import folium\n",
        "import pandas as pd\n",
        "import io\n",
        "\n",
        "from google.colab import files\n",
        " \n",
        " \n",
        "uploaded = files.upload()"
      ]
    },
    {
      "cell_type": "code",
      "execution_count": 3,
      "metadata": {
        "id": "rAhFFruatKKH"
      },
      "outputs": [],
      "source": [
        "df = pd.read_csv(io.BytesIO(uploaded['the-hello-dataset-fa22.csv']))\n",
        "\n",
        "y = df['Name']\n"
      ]
    },
    {
      "cell_type": "code",
      "execution_count": null,
      "metadata": {
        "colab": {
          "base_uri": "https://localhost:8080/"
        },
        "id": "s8FXhp5Nu3jL",
        "outputId": "f09e9cb0-68a0-4fca-b525-b0d3b79bd6e0"
      },
      "outputs": [
        {
          "name": "stdout",
          "output_type": "stream",
          "text": [
            "                 Name  Gender HSSC-1 HSSC-2  CGPA   FavoriteColor  BirthMonth  \\\n",
            "0      Rohaan Yousuf     Male    414    325  2.52            Pink    November   \n",
            "1           Muaz Ijaz    Male    390    816   2.7           Black    Feburary   \n",
            "2      Muhammad  Zain    Male    372    401  2.79  Gray And Brown       April   \n",
            "3         Habib Ullah    Male    399    434  3.35         Mustard       April   \n",
            "4          Parsa riaz  Female    393    422  2.93         Yellow        April   \n",
            "..                ...     ...    ...    ...   ...             ...         ...   \n",
            "129      Aneeq Duraiz    Male    343    724  2.81           Black   September   \n",
            "130      Hunain Javed    Male    362    413  2.94           Black  September    \n",
            "131   Maheen Iftikhar  Female    358    424  3.27           Green  September    \n",
            "132  Hamayoun Masroor    Male    900    856  3.16            Pink  September    \n",
            "133      Dil Muhammad    Male    351    380  2.66             Red  September    \n",
            "\n",
            "     Weight  Unnamed: 8  Unnamed: 9  Unnamed: 10  Unnamed: 11  Unnamed: 12  \\\n",
            "0      65.0         NaN         NaN          NaN          NaN          NaN   \n",
            "1      57.0         NaN         NaN          NaN          NaN          NaN   \n",
            "2      72.0         NaN         NaN          NaN          NaN          NaN   \n",
            "3      60.0         NaN         NaN          NaN          NaN          NaN   \n",
            "4      76.0         NaN         NaN          NaN          NaN          NaN   \n",
            "..      ...         ...         ...          ...          ...          ...   \n",
            "129    72.0         NaN         NaN          NaN          NaN          NaN   \n",
            "130    76.0         NaN         NaN          NaN          NaN          NaN   \n",
            "131    80.0         NaN         NaN          NaN          NaN          NaN   \n",
            "132    63.0         NaN         NaN          NaN          NaN          NaN   \n",
            "133    52.0         NaN         NaN          NaN          NaN          NaN   \n",
            "\n",
            "     Unnamed: 13  Unnamed: 14 (Sort) and then correct for Months)  \n",
            "0            NaN          NaN     Used =proper for capatlilizing   \n",
            "1            NaN          NaN                                 NaN  \n",
            "2            NaN          NaN                                 NaN  \n",
            "3            NaN          NaN                                 NaN  \n",
            "4            NaN          NaN                                 NaN  \n",
            "..           ...          ...                                 ...  \n",
            "129          NaN          NaN                                 NaN  \n",
            "130          NaN          NaN                                 NaN  \n",
            "131          NaN          NaN                                 NaN  \n",
            "132          NaN          NaN                                 NaN  \n",
            "133          NaN          NaN                                 NaN  \n",
            "\n",
            "[134 rows x 16 columns]\n"
          ]
        }
      ],
      "source": [
        "print(df)"
      ]
    },
    {
      "cell_type": "code",
      "execution_count": null,
      "metadata": {
        "colab": {
          "base_uri": "https://localhost:8080/"
        },
        "id": "OaCKLiz8tQEz",
        "outputId": "fcf7bdae-c83d-480c-cc6b-79cd4addee9b"
      },
      "outputs": [
        {
          "name": "stdout",
          "output_type": "stream",
          "text": [
            "Habib Ullah\n",
            "Hina\n",
            "Hamza Javed Khan\n",
            "Hussain afzal\n",
            "Hamza Naveed\n",
            "Hafiz Malahim Labib.\n",
            "HAMNA TARIQ SALEEMI\n",
            "Husnain Ahmed \n",
            "Hunain Javed\n",
            "Hamayoun Masroor\n"
          ]
        }
      ],
      "source": [
        "y = df['Name']\n",
        "check = df['Name'].str[0]\n",
        "\n",
        "check[5]\n",
        "\n",
        "for i in range(len(check)):\n",
        "  if(check[i] == 'h'or check[i] == 'H'):\n",
        "    print(y[i])\n",
        "\n"
      ]
    },
    {
      "cell_type": "code",
      "execution_count": null,
      "metadata": {
        "colab": {
          "base_uri": "https://localhost:8080/",
          "height": 300
        },
        "id": "4lTm9UdFUsHK",
        "outputId": "3851ccce-bc97-4166-f4ab-6516c5d28500"
      },
      "outputs": [
        {
          "output_type": "display_data",
          "data": {
            "text/plain": [
              "<Figure size 432x288 with 1 Axes>"
            ],
            "image/png": "[encoded data removed]"
          },
          "metadata": {
            "needs_background": "light"
          }
        },
        {
          "output_type": "stream",
          "name": "stdout",
          "text": [
            "134\n",
            "134\n"
          ]
        }
      ],
      "source": [
        "#Plot line chart of students and their birth months (IMPROVED)\n",
        "import numpy as np\n",
        "import matplotlib.pyplot as plt\n",
        "\n",
        "n=list(df['BirthMonth'])\n",
        "jan= n.count(\"January\")\n",
        "feb=n.count(\"February\")\n",
        "march=n.count(\"March\")\n",
        "april=n.count(\"April\")\n",
        "may=n.count(\"May\")\n",
        "june=n.count(\"June\")\n",
        "july=n.count(\"July\")\n",
        "aug=n.count(\"August\")\n",
        "sep=n.count(\"September\")\n",
        "oct=n.count(\"October\")\n",
        "nov=n.count(\"November\")\n",
        "dec=n.count(\"December\")\n",
        "    \n",
        "\n",
        "x = np.array(['jan','feb','march','april','may','june','july','aug','sep','oct','nov','dec'])\n",
        "y = np.array([jan,feb,march,april,may,june,july,aug,sep,oct,nov,dec])\n",
        "\n",
        "plt.plot(x, y)\n",
        "plt.show()  \n",
        "\n",
        "total=jan+feb+march+april+may+june+july+aug+sep+oct+nov+dec\n",
        "print(total)\n",
        "print(len(n))"
      ]
    },
    {
      "cell_type": "code",
      "source": [
        "import seaborn as sns\n",
        "H1=df['HSSC-1']\n",
        "H2=df['HSSC-2']\n",
        "\n",
        "corr=np.corrcoef(H1,H2)\n",
        "print(corr)\n",
        "\n",
        "plt.rcParams['figure.figsize']=8,6\n",
        "sns.heatmap(corr,annot=True,cmap='coolwarm')\n",
        "plt.title('Heatmap')\n",
        "plt.show\n"
      ],
      "metadata": {
        "colab": {
          "base_uri": "https://localhost:8080/",
          "height": 442
        },
        "id": "pTmEjSwce_MU",
        "outputId": "ef2c5f8c-8033-4645-e044-b2ce10bd2b74"
      },
      "execution_count": null,
      "outputs": [
        {
          "output_type": "stream",
          "name": "stdout",
          "text": [
            "[[1.         0.13113467]\n",
            " [0.13113467 1.        ]]\n"
          ]
        },
        {
          "output_type": "execute_result",
          "data": {
            "text/plain": [
              "<function matplotlib.pyplot.show(*args, **kw)>"
            ]
          },
          "metadata": {},
          "execution_count": 10
        },
        {
          "output_type": "display_data",
          "data": {
            "text/plain": [
              "<Figure size 576x432 with 2 Axes>"
            ],
            "image/png": "[encoded data removed]"
          },
          "metadata": {
            "needs_background": "light"
          }
        }
      ]
    },
    {
      "cell_type": "code",
      "source": [
        "import re      #considering first name , middle name and last number with more than 3 words...\n",
        "z = list(df['Name'])\n",
        "for i in range(0,len(y)):\n",
        "  x = y[i].split()\n",
        "  if (len(x)>= 3):\n",
        "    print(z[i])"
      ],
      "metadata": {
        "colab": {
          "base_uri": "https://localhost:8080/"
        },
        "id": "s-3bRuhQN-EL",
        "outputId": "66335671-d033-4351-f31e-cc1b7848e944"
      },
      "execution_count": 4,
      "outputs": [
        {
          "output_type": "stream",
          "name": "stdout",
          "text": [
            "Muhammad Ammar Khalid\n",
            "Salman Wasi Ahmad Khan \n",
            "Muhammad zafar ijaz khan\n",
            "Shahzada Mujahid Raza\n",
            "Muhammad saim jamil\n",
            "Syed Ali Mehdi\n",
            "Aftab Ahmad Khan\n",
            "Syeda Maham Gillani\n",
            "Muhammad Nouman Tahir\n",
            "Osama Nadeem Khan \n",
            "Ahmar Hafeez Khan\n",
            "M Hassaan Lateef \n",
            "Syed Muhammad Ali Abbas Naqvi\n",
            "M Abubakar Malik\n",
            "Syed Ali Raza Shah Bukhari\n",
            "SARMAD WAHEED AHMED \n",
            "Hamza Javed Khan\n",
            "Muhammad Subhan Khan \n",
            "Ahmed Amjad Dar \n",
            "Muhammad Asadullah Rind\n",
            "Abdul Hadi Khan\n",
            "MUHAMMAD SAIF ULLAH\n",
            "Muhammad Talha Saeed\n",
            "Muhammad Hashir Azeem\n",
            "Muhammad Bilal Aslam\n",
            "Muhammad Hammad Ejaz\n",
            "Hafiz Malahim Labib.\n",
            "Muhammad Al Fahad\n",
            "Muhammad Umair Tariq \n",
            "Muhammad Azeem Shoukat \n",
            "Muhammad Ibrahim Khalil\n",
            "Muhammad Umar Asghar\n",
            "Muhammad Aun Raza\n",
            "HAMNA TARIQ SALEEMI\n",
            "MUHAMMAD HAIDER AWAN\n",
            "Muhammad Huzaifa Jawad\n",
            "Syeda Noor Zehra Naqvi\n",
            "NOOR TARIQ RANA\n",
            "Syed Zain Raza\n",
            "Mutyyab Ul Hassan Khan\n",
            "Syed Muhammad Hamza Imran\n",
            "Bashara Tehseen Liaqat\n",
            "GHULAM MUSTAFA SHIEKH\n",
            "M.Abdul Mateen Alam\n"
          ]
        }
      ]
    },
    {
      "cell_type": "code",
      "source": [
        "import numpy as np\n",
        "import matplotlib.pyplot as plt\n",
        "\n",
        "a=list(df['Gender'])\n",
        "male= a.count(\"Male\")\n",
        "female= a.count(\"Female\")\n",
        "\n",
        "y = [male,female]\n",
        "mylabels = [\"Male\", \"Female\"]\n",
        "\n",
        "plt.pie(y, labels = mylabels)\n",
        "plt.show()"
      ],
      "metadata": {
        "colab": {
          "base_uri": "https://localhost:8080/",
          "height": 248
        },
        "id": "78ZFbr9GOWr8",
        "outputId": "7a85ed9d-759c-47ec-ee66-b9e25a538aff"
      },
      "execution_count": 6,
      "outputs": [
        {
          "output_type": "display_data",
          "data": {
            "text/plain": [
              "<Figure size 432x288 with 1 Axes>"
            ],
            "image/png": "[encoded data removed]"
          },
          "metadata": {}
        }
      ]
    },
    {
      "cell_type": "code",
      "source": [
        "#Plot the favorite colors of male vs female students on a bar chart.\n",
        "import numpy as np\n",
        "import matplotlib.pyplot as plt\n",
        "\n",
        "b=df['FavoriteColor']\n",
        "a=df['Gender']\n",
        "\n",
        "mblack=0\n",
        "mgreen=0\n",
        "mother=0\n",
        "mblue=0\n",
        "myellow=0\n",
        "mwhite=0\n",
        "mred=0\n",
        "\n",
        "fblue=0\n",
        "fblack=0\n",
        "fyellow=0\n",
        "fred=0\n",
        "fwhite=0\n",
        "fother=0\n",
        "fgreen=0 \n",
        "\n",
        "for i in range(0, len(b)):\n",
        "        if(a[i]=='Male'):\n",
        "            if(b[i]=='Black'):\n",
        "              mblack+=1\n",
        "            elif(b[i]=='Blue'):\n",
        "              mblue+=1\n",
        "            elif(b[i]=='Green'):\n",
        "              mgreen+=1\n",
        "            elif(b[i]=='White'):\n",
        "              mwhite+=1\n",
        "            elif(b[i]=='Yellow'):\n",
        "              myellow+=1  \n",
        "            elif(b[i]=='Red'):\n",
        "              mred+=1  \n",
        "            else:\n",
        "              mother+=1 \n",
        "        else:\n",
        "          if(b[i]=='Black'):\n",
        "            fblack+=1\n",
        "          elif(b[i]=='Blue'):\n",
        "            fblue+=1\n",
        "          elif(b[i]=='Green'):\n",
        "            fgreen+=1\n",
        "          elif(b[i]=='White'):\n",
        "            fwhite+=1\n",
        "          elif(b[i]=='Yellow'):\n",
        "            fyellow+=1  \n",
        "          elif(b[i]=='Red'):\n",
        "            fred+=1  \n",
        "          else:\n",
        "            fother+=1 \n",
        "\n",
        "\n",
        "x = np.array([\"Black\", \"Blue\", \"White\", \"Red\",\"Green\",\"Yellow\",\"Other\"])\n",
        "ymale = np.array([mblack, mblue,mwhite,mred,mgreen, myellow, mother])\n",
        "yfemale= np.array([fblack, fblue,fwhite,fred,fgreen, fyellow, fother])\n",
        "  \n",
        "X_axis = np.arange(len(x))\n",
        "plt.bar(X_axis + 0.2, ymale, 0.4, label = 'Male')  \n",
        "plt.bar(X_axis - 0.2, yfemale, 0.4, label = 'Female')\n",
        "  \n",
        "plt.xticks(X_axis, x)\n",
        "plt.xlabel(\"Colors\")\n",
        "plt.ylabel(\"Frequency\")\n",
        "plt.title(\"Favourite Colors of Female and Males\")\n",
        "plt.legend()\n",
        "plt.show()"
      ],
      "metadata": {
        "colab": {
          "base_uri": "https://localhost:8080/",
          "height": 295
        },
        "id": "4OJmELX2O4By",
        "outputId": "d7fc7a60-fee4-40eb-f61d-1e7aed9113d3"
      },
      "execution_count": 7,
      "outputs": [
        {
          "output_type": "display_data",
          "data": {
            "text/plain": [
              "<Figure size 432x288 with 1 Axes>"
            ],
            "image/png": "[encoded data removed]"
          },
          "metadata": {
            "needs_background": "light"
          }
        }
      ]
    },
    {
      "cell_type": "code",
      "source": [
        "#Plot the CGPA of all male students on a histogram with intervals 2.0-2.5, 2.6-3.0, 3.1-3.5, 3.6-4.0\n",
        "import numpy as np\n",
        "import matplotlib.pyplot as plt\n",
        "\n",
        "cgpa=df['CGPA']\n",
        "a=df['Gender']\n",
        "cgpaM = []\n",
        "\n",
        "for i in range(len(cgpa)):\n",
        "  if(a[i] == 'Male'):\n",
        "    x = float(cgpa[i])\n",
        "    cgpaM.append(x)\n",
        "\n",
        "y=[2,2.5,3,3.5,4] \n",
        "\n",
        "\n",
        "\n",
        "plt.hist(cgpaM,bins=np.arange(2, 4, 0.5),edgecolor='black')\n",
        "plt.title(\"Histogram representing cgpa of Male students\")\n",
        "plt.xlabel('cgpa ')\n",
        "plt.ylabel('Frequency of Students ')\n",
        "plt.show()"
      ],
      "metadata": {
        "colab": {
          "base_uri": "https://localhost:8080/",
          "height": 295
        },
        "id": "67Wo45wlOunz",
        "outputId": "daf2df8f-9ba0-4cd5-9695-e81d997bf097"
      },
      "execution_count": 8,
      "outputs": [
        {
          "output_type": "display_data",
          "data": {
            "text/plain": [
              "<Figure size 432x288 with 1 Axes>"
            ],
            "image/png": "[encoded data removed]"
          },
          "metadata": {
            "needs_background": "light"
          }
        }
      ]
    },
    {
      "cell_type": "code",
      "source": [
        "#Plot the HSSC-1 marks of all male vs female students on a scatter plot\n",
        "marks=df['HSSC-1']\n",
        "check = df['Gender']\n",
        "\n",
        "Male=[]\n",
        "TrimMale=[]\n",
        "Female=[]\n",
        "\n",
        "for i in range(len(marks)):\n",
        "  if (check[i] == 'Male'):\n",
        "    if(int(marks[i])<=550):\n",
        "      x = int(marks[i])\n",
        "      Male.append(x)\n",
        "  else:\n",
        "    if(int(marks[i])<=550):\n",
        "      x = int(marks[i])\n",
        "      Female.append(x)\n",
        "c=0\n",
        "\n",
        "for i in range(0,20):\n",
        "    TrimMale.append(Male[i])\n",
        "    c+=1\n",
        "grades_range = []\n",
        "\n",
        "sum=0\n",
        "for i  in range(0,20):\n",
        "  grades_range.append(sum)\n",
        "  sum+=27.5\n",
        "\n",
        "\n",
        "plt.scatter(TrimMale,grades_range, marker='o')\n",
        "plt.scatter(Female,grades_range, marker='x')\n",
        "plt.xlabel('Marks Scored', fontsize=12)\n",
        "plt.ylabel('Total Marks', fontsize=12)\n",
        "plt.title('Scatter PLot')\n",
        "plt.show()"
      ],
      "metadata": {
        "colab": {
          "base_uri": "https://localhost:8080/",
          "height": 298
        },
        "id": "qWwRAFsiQK7V",
        "outputId": "b97a3c61-b8fb-42d7-933b-d1752a55f40a"
      },
      "execution_count": 9,
      "outputs": [
        {
          "output_type": "display_data",
          "data": {
            "text/plain": [
              "<Figure size 432x288 with 1 Axes>"
            ],
            "image/png": "[encoded data removed]"
          },
          "metadata": {
            "needs_background": "light"
          }
        }
      ]
    }
  ],
  "metadata": {
    "colab": {
      "provenance": [],
      "authorship_tag": "ABX9TyNVScxm64M7oGbrBPcTv5pU",
      "include_colab_link": true
    },
    "kernelspec": {
      "display_name": "Python 3",
      "name": "python3"
    },
    "language_info": {
      "name": "python"
    }
  },
  "nbformat": 4,
  "nbformat_minor": 0
}